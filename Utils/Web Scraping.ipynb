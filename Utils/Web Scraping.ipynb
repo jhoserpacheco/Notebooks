{
 "cells": [
  {
   "cell_type": "code",
   "execution_count": 1,
   "id": "0227a655",
   "metadata": {},
   "outputs": [],
   "source": [
    "# Install BS4 beautiful soup and request library for web scraping \n",
    "#!pip install bs4\n",
    "#!pip install requests\n",
    "# Install library for parse data \n",
    "#!pip install lxml"
   ]
  },
  {
   "cell_type": "code",
   "execution_count": 2,
   "id": "1f71b8f7",
   "metadata": {},
   "outputs": [],
   "source": [
    "# import libraries\n",
    "import lxml\n",
    "import pandas as pd \n",
    "import requests \n",
    "\n",
    "from bs4 import BeautifulSoup "
   ]
  },
  {
   "cell_type": "code",
   "execution_count": 3,
   "id": "47d1f9ba",
   "metadata": {},
   "outputs": [],
   "source": [
    "website = 'https://www.brainyquote.com/topics/motivational-quotes'\n",
    "result_response = requests.get(website)\n",
    "content_response_website = resultResponse.text"
   ]
  },
  {
   "cell_type": "code",
   "execution_count": 4,
   "id": "397a03e5",
   "metadata": {},
   "outputs": [],
   "source": [
    "# Allow get html elements with parse lxml\n",
    "soup = BeautifulSoup(content_response_website, 'lxml')"
   ]
  },
  {
   "cell_type": "code",
   "execution_count": 9,
   "id": "0d126302",
   "metadata": {},
   "outputs": [],
   "source": [
    "def rawdata_to_quoute_list(quotes):\n",
    "    q_list = []\n",
    "    for i in quotes:\n",
    "        for j in i.find_all('a'):\n",
    "            text = j.get_text(strip = True, separator=\"\\n\")\n",
    "            if text != \"\":\n",
    "                q_list.append(text)\n",
    "    return q_list"
   ]
  },
  {
   "cell_type": "code",
   "execution_count": 6,
   "id": "8f694979",
   "metadata": {},
   "outputs": [],
   "source": [
    "def list_quotes_to_dictionary(list_quotes):\n",
    "    size_list = len(list_quotes)\n",
    "    dictionary = {}\n",
    "    for i in range(0, size_list - 1, 2):\n",
    "        quote = list_quotes[i]\n",
    "        autor = list_quotes[i + 1]\n",
    "        dictionary[autor] = quote\n",
    "    return dictionary"
   ]
  },
  {
   "cell_type": "code",
   "execution_count": 7,
   "id": "ef60a926",
   "metadata": {},
   "outputs": [],
   "source": [
    "# get data from html elements \n",
    "box = soup.find_all('div', class_='grid-item qb clearfix bqQt')\n",
    "\n",
    "quotes_list = rawdata_to_quoute_list(box)\n",
    "quotes_dict = list_quotes_to_dictionary(quotes_list)"
   ]
  },
  {
   "cell_type": "code",
   "execution_count": 26,
   "id": "3d04f3b5",
   "metadata": {},
   "outputs": [
    {
     "data": {
      "text/html": [
       "<div>\n",
       "<style scoped>\n",
       "    .dataframe tbody tr th:only-of-type {\n",
       "        vertical-align: middle;\n",
       "    }\n",
       "\n",
       "    .dataframe tbody tr th {\n",
       "        vertical-align: top;\n",
       "    }\n",
       "\n",
       "    .dataframe thead th {\n",
       "        text-align: right;\n",
       "    }\n",
       "</style>\n",
       "<table border=\"1\" class=\"dataframe\">\n",
       "  <thead>\n",
       "    <tr style=\"text-align: right;\">\n",
       "      <th></th>\n",
       "      <th>Autor</th>\n",
       "      <th>Quote</th>\n",
       "    </tr>\n",
       "  </thead>\n",
       "  <tbody>\n",
       "    <tr>\n",
       "      <th>0</th>\n",
       "      <td>St. Jerome</td>\n",
       "      <td>Good, better, best. Never let it rest. 'Til yo...</td>\n",
       "    </tr>\n",
       "    <tr>\n",
       "      <th>1</th>\n",
       "      <td>Nelson Mandela</td>\n",
       "      <td>It always seems impossible until it's done.</td>\n",
       "    </tr>\n",
       "    <tr>\n",
       "      <th>2</th>\n",
       "      <td>Charles R. Swindoll</td>\n",
       "      <td>Life is 10% what happens to you and 90% how yo...</td>\n",
       "    </tr>\n",
       "    <tr>\n",
       "      <th>3</th>\n",
       "      <td>Elon Musk</td>\n",
       "      <td>When something is important enough, you do it ...</td>\n",
       "    </tr>\n",
       "    <tr>\n",
       "      <th>4</th>\n",
       "      <td>Arthur Ashe</td>\n",
       "      <td>Start where you are. Use what you have. Do wha...</td>\n",
       "    </tr>\n",
       "  </tbody>\n",
       "</table>\n",
       "</div>"
      ],
      "text/plain": [
       "                 Autor                                              Quote\n",
       "0           St. Jerome  Good, better, best. Never let it rest. 'Til yo...\n",
       "1       Nelson Mandela        It always seems impossible until it's done.\n",
       "2  Charles R. Swindoll  Life is 10% what happens to you and 90% how yo...\n",
       "3            Elon Musk  When something is important enough, you do it ...\n",
       "4          Arthur Ashe  Start where you are. Use what you have. Do wha..."
      ]
     },
     "execution_count": 26,
     "metadata": {},
     "output_type": "execute_result"
    }
   ],
   "source": [
    "# get data from web scraping parse dataframe with pandas \n",
    "quotes_dataframe = pd.DataFrame(quotes_dict.items(), columns=['Autor', 'Quote'])\n",
    "quotes_dataframe.head()"
   ]
  },
  {
   "cell_type": "code",
   "execution_count": 28,
   "id": "46806f60",
   "metadata": {},
   "outputs": [],
   "source": [
    "# quotes from dataframe to excel file\n",
    "quotes_dataframe.to_excel(\"motivational-quotes.xlsx\", sheet_name='Test')  "
   ]
  },
  {
   "cell_type": "code",
   "execution_count": null,
   "id": "cf890710",
   "metadata": {},
   "outputs": [],
   "source": [
    "# quotes list to txt file \n",
    "with open(\"motivational-quotes.txt\", \"w\") as file:\n",
    "    file.write(\"\\n\".join(str(item) for item in quotes_dict.items()))"
   ]
  }
 ],
 "metadata": {
  "kernelspec": {
   "display_name": "Python 3",
   "language": "python",
   "name": "python3"
  },
  "language_info": {
   "codemirror_mode": {
    "name": "ipython",
    "version": 3
   },
   "file_extension": ".py",
   "mimetype": "text/x-python",
   "name": "python",
   "nbconvert_exporter": "python",
   "pygments_lexer": "ipython3",
   "version": "3.8.8"
  }
 },
 "nbformat": 4,
 "nbformat_minor": 5
}
